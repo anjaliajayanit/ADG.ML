{
 "cells": [
  {
   "cell_type": "code",
   "execution_count": 3,
   "metadata": {},
   "outputs": [
    {
     "name": "stdout",
     "output_type": "stream",
     "text": [
      "Empty DataFrame\n",
      "Columns: []\n",
      "Index: []\n"
     ]
    }
   ],
   "source": [
    "import pandas as pd\n",
    "#creating an empty dataframe\n",
    "df1 = pd.DataFrame()\n",
    "print(df1)"
   ]
  },
  {
   "cell_type": "code",
   "execution_count": 5,
   "metadata": {},
   "outputs": [
    {
     "name": "stdout",
     "output_type": "stream",
     "text": [
      "       0\n",
      "0    sia\n",
      "1  alish\n",
      "2   nick\n"
     ]
    }
   ],
   "source": [
    "#creating a DataFrame from python list\n",
    "list2 = ['sia','alish','nick']\n",
    "df2 = pd.DataFrame(list2)\n",
    "print(df2)"
   ]
  },
  {
   "cell_type": "code",
   "execution_count": 6,
   "metadata": {},
   "outputs": [
    {
     "name": "stdout",
     "output_type": "stream",
     "text": [
      "    name  age\n",
      "0    sia   21\n",
      "1  alish   12\n",
      "2   ishi   22\n"
     ]
    }
   ],
   "source": [
    "list3 = {'name':['sia','alish','ishi'],'age':[21,12,22]}\n",
    "df = pd.DataFrame(list3)\n",
    "print(df)"
   ]
  },
  {
   "cell_type": "code",
   "execution_count": 8,
   "metadata": {},
   "outputs": [
    {
     "name": "stdout",
     "output_type": "stream",
     "text": [
      "    Name  Age\n",
      "0    sia    3\n",
      "1  alish   12\n",
      "2   ishi   22\n"
     ]
    }
   ],
   "source": [
    "name = pd.Series(['sia','alish','ishi'])\n",
    "age = pd.Series([3,12,22])\n",
    "dict = {'Name':name,'Age':age}\n",
    "df = pd.DataFrame(dict)\n",
    "print(df)"
   ]
  },
  {
   "cell_type": "code",
   "execution_count": 9,
   "metadata": {},
   "outputs": [
    {
     "name": "stdout",
     "output_type": "stream",
     "text": [
      "    name  age  date of birth\n",
      "0    sia   21              3\n",
      "1  alish   12              8\n",
      "2   ishi   22             18\n"
     ]
    }
   ],
   "source": [
    "#adding a column\n",
    "list3 = {'name':['sia','alish','ishi'],'age':[21,12,22]}\n",
    "df = pd.DataFrame(list3)\n",
    "df['date of birth'] = pd.Series([3,8,18])\n",
    "print(df)"
   ]
  },
  {
   "cell_type": "code",
   "execution_count": 10,
   "metadata": {},
   "outputs": [
    {
     "name": "stdout",
     "output_type": "stream",
     "text": [
      "    name  age\n",
      "0    sia   21\n",
      "1  alish   12\n",
      "2   ishi   22\n"
     ]
    }
   ],
   "source": [
    "#deleting a column\n",
    "list3 = {'name':['sia','alish','ishi'],'age':[21,12,22]}\n",
    "df = pd.DataFrame(list3)\n",
    "df['date of birth'] = pd.Series([3,8,18])\n",
    "del df['date of birth']\n",
    "print(df)"
   ]
  },
  {
   "cell_type": "code",
   "execution_count": 14,
   "metadata": {},
   "outputs": [
    {
     "name": "stdout",
     "output_type": "stream",
     "text": [
      "    name  age\n",
      "0    sia   21\n",
      "1  alish   12\n",
      "2   ishi   22\n",
      "0   JOHN    9\n"
     ]
    }
   ],
   "source": [
    "#Adding a row\n",
    "list3 = {'name':['sia','alish','ishi'],'age':[21,12,22]}\n",
    "df = pd.DataFrame(list3)\n",
    "df['date of birth'] = pd.Series([3,8,18])\n",
    "del df['date of birth']\n",
    "data = pd.DataFrame([['JOHN',9]],columns = ['name','age'])\n",
    "print(df.append(data))"
   ]
  },
  {
   "cell_type": "code",
   "execution_count": 19,
   "metadata": {},
   "outputs": [
    {
     "name": "stdout",
     "output_type": "stream",
     "text": [
      "    name  age\n",
      "0    sia   21\n",
      "1  alish   12\n"
     ]
    }
   ],
   "source": [
    "#deleting a row\n",
    "list3 = {'name':['sia','alish','ishi'],'age':[21,12,22]}\n",
    "df = pd.DataFrame(list3)\n",
    "print(df.drop(2))"
   ]
  },
  {
   "cell_type": "code",
   "execution_count": 15,
   "metadata": {},
   "outputs": [
    {
     "name": "stdout",
     "output_type": "stream",
     "text": [
      "    name  age\n",
      "0    sia   21\n",
      "1  alish   12\n"
     ]
    }
   ],
   "source": [
    "#deleting a row\n",
    "list3 = {'name':['sia','alish','ishi'],'age':[21,12,22]}\n",
    "df = pd.DataFrame(list3)\n",
    "print(df.drop(2))"
   ]
  }
 ],
 "metadata": {
  "kernelspec": {
   "display_name": "Python 3",
   "language": "python",
   "name": "python3"
  },
  "language_info": {
   "codemirror_mode": {
    "name": "ipython",
    "version": 3
   },
   "file_extension": ".py",
   "mimetype": "text/x-python",
   "name": "python",
   "nbconvert_exporter": "python",
   "pygments_lexer": "ipython3",
   "version": "3.7.6"
  }
 },
 "nbformat": 4,
 "nbformat_minor": 4
}
